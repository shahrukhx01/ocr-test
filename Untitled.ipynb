{
 "cells": [
  {
   "cell_type": "code",
   "execution_count": 1,
   "id": "stylish-headline",
   "metadata": {},
   "outputs": [],
   "source": [
    "from dataset.dataset import test_transform\n",
    "import cv2\n",
    "import pandas as pd\n",
    "from PIL import ImageGrab\n",
    "from PIL import Image\n",
    "import os\n",
    "import sys\n",
    "import argparse\n",
    "import logging\n",
    "import yaml\n",
    "from pnglatex import pnglatex\n",
    "\n",
    "import numpy as np\n",
    "import torch\n",
    "from torchvision import transforms\n",
    "from munch import Munch\n",
    "from transformers import PreTrainedTokenizerFast\n",
    "\n",
    "\n",
    "from dataset.latex2png import tex2pil\n",
    "from models import get_model\n",
    "from utils import *\n",
    "from IPython.display import Image \n",
    "\n",
    "\n",
    "def initialize(arguments):\n",
    "    with open(arguments.config, 'r') as f:\n",
    "        params = yaml.load(f, Loader=yaml.FullLoader)\n",
    "    args = Munch(params)\n",
    "    args.update(**vars(arguments))\n",
    "    args.wandb = False\n",
    "    args.device = 'cuda' if torch.cuda.is_available() and not args.no_cuda else 'cpu'\n",
    "\n",
    "    model = get_model(args)\n",
    "    model.load_state_dict(torch.load(args.checkpoint, map_location=args.device))\n",
    "    tokenizer = PreTrainedTokenizerFast(tokenizer_file=args.tokenizer)\n",
    "    return args, model, tokenizer\n",
    "\n",
    "\n",
    "def call_model(args, model, tokenizer):\n",
    "    encoder, decoder = model.encoder, model.decoder\n",
    "    img = ImageGrab.grabclipboard()\n",
    "    print('input image')\n",
    "    display(img)\n",
    "    if img is None:\n",
    "        print('Copy an image into the clipboard.')\n",
    "        return\n",
    "    ratios = [a/b for a, b in zip(img.size, args.max_dimensions)]\n",
    "    if any([r > 1 for r in ratios]):\n",
    "        size = np.array(img.size)//max(ratios)\n",
    "        img = img.resize(size.astype(int), Image.BILINEAR)\n",
    "    img = np.array(pad(img, args.patch_size).convert('RGB'))\n",
    "    t = test_transform(image=img)['image'][:1].unsqueeze(0)\n",
    "    im = t.to(args.device)\n",
    "\n",
    "    with torch.no_grad():\n",
    "        model.eval()\n",
    "        device = args.device\n",
    "        encoded = encoder(im.to(device))\n",
    "        dec = decoder.generate(torch.LongTensor([args.bos_token])[:, None].to(device), args.max_seq_len,\n",
    "                               eos_token=args.eos_token, context=encoded.detach(), temperature=args.temperature)\n",
    "        pred = post_process(token2str(dec, tokenizer)[0])\n",
    "    print(pred, '\\n')\n",
    "    df = pd.DataFrame([pred])\n",
    "    df.to_clipboard(index=False, header=False)\n",
    "    if args.show:\n",
    "        try:\n",
    "            tex2pil([f'$${pred}$$'])[0].show()\n",
    "        except Exception as e:\n",
    "            print(e)\n",
    "    return pred\n",
    "\n",
    "\n"
   ]
  },
  {
   "cell_type": "code",
   "execution_count": 5,
   "id": "institutional-findings",
   "metadata": {},
   "outputs": [
    {
     "name": "stdout",
     "output_type": "stream",
     "text": [
      "Press ENTER to predict the LaTeX code for the image in the memory. Type \"x\" to stop the program. \n",
      "input image\n"
     ]
    },
    {
     "data": {
      "image/png": "[encoded data removed]",
      "text/plain": [
       "<PIL.JpegImagePlugin.JpegImageFile image mode=RGB size=322x104 at 0x13B041490>"
      ]
     },
     "metadata": {},
     "output_type": "display_data"
    },
    {
     "name": "stdout",
     "output_type": "stream",
     "text": [
      "\\sum_{i}\\overline{{{\\bf{\\sigma}_{i}}}}\\,{\\bf\\overline{{{\\bf{\\sigma}_{i}}}}}\\,{\\bf\\overline{{{(\\bf{\\sigma}_{i})}}}}\\,{\\bf\\bar{{\\bf{\\sigma}}}}\\,{\\bf\\bar{{\\bf V}}_{i}}\\,. \n",
      "\n"
     ]
    },
    {
     "data": {
      "image/png": "[encoded data removed]",
      "text/plain": [
       "<PIL.PngImagePlugin.PngImageFile image mode=L size=165x46 at 0x13B0412B0>"
      ]
     },
     "metadata": {},
     "output_type": "display_data"
    },
    {
     "ename": "KeyboardInterrupt",
     "evalue": "Interrupted by user",
     "output_type": "error",
     "traceback": [
      "\u001b[0;31m---------------------------------------------------------------------------\u001b[0m",
      "\u001b[0;31mKeyboardInterrupt\u001b[0m                         Traceback (most recent call last)",
      "\u001b[0;32m<ipython-input-5-919756c0a40d>\u001b[0m in \u001b[0;36m<module>\u001b[0;34m\u001b[0m\n\u001b[1;32m     15\u001b[0m \u001b[0margs\u001b[0m\u001b[0;34m,\u001b[0m \u001b[0mmodel\u001b[0m\u001b[0;34m,\u001b[0m \u001b[0mtokenizer\u001b[0m \u001b[0;34m=\u001b[0m \u001b[0minitialize\u001b[0m\u001b[0;34m(\u001b[0m\u001b[0margs\u001b[0m\u001b[0;34m)\u001b[0m\u001b[0;34m\u001b[0m\u001b[0;34m\u001b[0m\u001b[0m\n\u001b[1;32m     16\u001b[0m \u001b[0;32mwhile\u001b[0m \u001b[0;32mTrue\u001b[0m\u001b[0;34m:\u001b[0m\u001b[0;34m\u001b[0m\u001b[0;34m\u001b[0m\u001b[0m\n\u001b[0;32m---> 17\u001b[0;31m     \u001b[0minstructions\u001b[0m \u001b[0;34m=\u001b[0m \u001b[0minput\u001b[0m\u001b[0;34m(\u001b[0m\u001b[0;34m'Press ENTER to predict the LaTeX code for the image in the memory. Type \"x\" to stop the program. '\u001b[0m\u001b[0;34m)\u001b[0m\u001b[0;34m\u001b[0m\u001b[0;34m\u001b[0m\u001b[0m\n\u001b[0m\u001b[1;32m     18\u001b[0m     \u001b[0;32mif\u001b[0m \u001b[0minstructions\u001b[0m\u001b[0;34m.\u001b[0m\u001b[0mstrip\u001b[0m\u001b[0;34m(\u001b[0m\u001b[0;34m)\u001b[0m\u001b[0;34m.\u001b[0m\u001b[0mlower\u001b[0m\u001b[0;34m(\u001b[0m\u001b[0;34m)\u001b[0m \u001b[0;34m==\u001b[0m \u001b[0;34m'x'\u001b[0m\u001b[0;34m:\u001b[0m\u001b[0;34m\u001b[0m\u001b[0;34m\u001b[0m\u001b[0m\n\u001b[1;32m     19\u001b[0m         \u001b[0;32mbreak\u001b[0m\u001b[0;34m\u001b[0m\u001b[0;34m\u001b[0m\u001b[0m\n",
      "\u001b[0;32m/usr/local/lib/python3.9/site-packages/ipykernel/kernelbase.py\u001b[0m in \u001b[0;36mraw_input\u001b[0;34m(self, prompt)\u001b[0m\n\u001b[1;32m    846\u001b[0m                 \u001b[0;34m\"raw_input was called, but this frontend does not support input requests.\"\u001b[0m\u001b[0;34m\u001b[0m\u001b[0;34m\u001b[0m\u001b[0m\n\u001b[1;32m    847\u001b[0m             )\n\u001b[0;32m--> 848\u001b[0;31m         return self._input_request(str(prompt),\n\u001b[0m\u001b[1;32m    849\u001b[0m             \u001b[0mself\u001b[0m\u001b[0;34m.\u001b[0m\u001b[0m_parent_ident\u001b[0m\u001b[0;34m,\u001b[0m\u001b[0;34m\u001b[0m\u001b[0;34m\u001b[0m\u001b[0m\n\u001b[1;32m    850\u001b[0m             \u001b[0mself\u001b[0m\u001b[0;34m.\u001b[0m\u001b[0m_parent_header\u001b[0m\u001b[0;34m,\u001b[0m\u001b[0;34m\u001b[0m\u001b[0;34m\u001b[0m\u001b[0m\n",
      "\u001b[0;32m/usr/local/lib/python3.9/site-packages/ipykernel/kernelbase.py\u001b[0m in \u001b[0;36m_input_request\u001b[0;34m(self, prompt, ident, parent, password)\u001b[0m\n\u001b[1;32m    890\u001b[0m             \u001b[0;32mexcept\u001b[0m \u001b[0mKeyboardInterrupt\u001b[0m\u001b[0;34m:\u001b[0m\u001b[0;34m\u001b[0m\u001b[0;34m\u001b[0m\u001b[0m\n\u001b[1;32m    891\u001b[0m                 \u001b[0;31m# re-raise KeyboardInterrupt, to truncate traceback\u001b[0m\u001b[0;34m\u001b[0m\u001b[0;34m\u001b[0m\u001b[0;34m\u001b[0m\u001b[0m\n\u001b[0;32m--> 892\u001b[0;31m                 \u001b[0;32mraise\u001b[0m \u001b[0mKeyboardInterrupt\u001b[0m\u001b[0;34m(\u001b[0m\u001b[0;34m\"Interrupted by user\"\u001b[0m\u001b[0;34m)\u001b[0m \u001b[0;32mfrom\u001b[0m \u001b[0;32mNone\u001b[0m\u001b[0;34m\u001b[0m\u001b[0;34m\u001b[0m\u001b[0m\n\u001b[0m\u001b[1;32m    893\u001b[0m             \u001b[0;32mexcept\u001b[0m \u001b[0mException\u001b[0m \u001b[0;32mas\u001b[0m \u001b[0me\u001b[0m\u001b[0;34m:\u001b[0m\u001b[0;34m\u001b[0m\u001b[0;34m\u001b[0m\u001b[0m\n\u001b[1;32m    894\u001b[0m                 \u001b[0mself\u001b[0m\u001b[0;34m.\u001b[0m\u001b[0mlog\u001b[0m\u001b[0;34m.\u001b[0m\u001b[0mwarning\u001b[0m\u001b[0;34m(\u001b[0m\u001b[0;34m\"Invalid Message:\"\u001b[0m\u001b[0;34m,\u001b[0m \u001b[0mexc_info\u001b[0m\u001b[0;34m=\u001b[0m\u001b[0;32mTrue\u001b[0m\u001b[0;34m)\u001b[0m\u001b[0;34m\u001b[0m\u001b[0;34m\u001b[0m\u001b[0m\n",
      "\u001b[0;31mKeyboardInterrupt\u001b[0m: Interrupted by user"
     ]
    }
   ],
   "source": [
    "\n",
    "parser = argparse.ArgumentParser(description='Use model', add_help=False)\n",
    "parser.add_argument('-t', '--temperature', type=float, default=.333, help='Softmax sampling frequency')\n",
    "parser.add_argument('-c', '--config', type=str, default='/Users/shahrukh/Desktop/LaTeX-OCR/settings/config.yaml')\n",
    "parser.add_argument('-m', '--checkpoint', type=str, default='/Users/shahrukh/Desktop/LaTeX-OCR/checkpoints/weights.pth')\n",
    "parser.add_argument('-s', '--show', action='store_true', help='Show the rendered predicted latex code')\n",
    "parser.add_argument('--no-cuda', action='store_true', help='Compute on CPU')\n",
    "args = parser.parse_args(\"--temperature 0.333\".split())\n",
    "logging.getLogger().setLevel(logging.FATAL)\n",
    "os.environ['TF_CPP_MIN_LOG_LEVEL'] = '3'\n",
    "latexocr_path = os.path.dirname(sys.argv[0])\n",
    "if latexocr_path != '':\n",
    "    sys.path.insert(0, latexocr_path)\n",
    "    os.chdir(latexocr_path)\n",
    "\n",
    "args, model, tokenizer = initialize(args)\n",
    "while True:\n",
    "    instructions = input('Press ENTER to predict the LaTeX code for the image in the memory. Type \"x\" to stop the program. ')\n",
    "    if instructions.strip().lower() == 'x':\n",
    "        break\n",
    "    pred = call_model(args, model, tokenizer)\n",
    "    text = pred\n",
    "    text = '\\[{}\\]'.format(text)\n",
    "    output = pnglatex(r'{}'.format(text), '{}.png'.format('/Users/shahrukh/Desktop/test'))\n",
    "    from PIL import Image\n",
    "    img = Image.open('/Users/shahrukh/Desktop/test.png')\n",
    "    from IPython.display import Image \n",
    "    display(img)\n",
    "    \n",
    "    \n",
    "%tb\n"
   ]
  },
  {
   "cell_type": "code",
   "execution_count": null,
   "id": "73edf9d7",
   "metadata": {},
   "outputs": [],
   "source": [
    "preview(r'$$\\int_0^1 e^x\\,dx$$', viewer='file', filename='/Users/shahrukh/Desktop/test.png', euler=False)"
   ]
  },
  {
   "cell_type": "code",
   "execution_count": null,
   "id": "d4269b88",
   "metadata": {},
   "outputs": [],
   "source": []
  },
  {
   "cell_type": "code",
   "execution_count": null,
   "id": "c07151ca",
   "metadata": {},
   "outputs": [],
   "source": []
  }
 ],
 "metadata": {
  "kernelspec": {
   "display_name": "Python 3",
   "language": "python",
   "name": "python3"
  },
  "language_info": {
   "codemirror_mode": {
    "name": "ipython",
    "version": 3
   },
   "file_extension": ".py",
   "mimetype": "text/x-python",
   "name": "python",
   "nbconvert_exporter": "python",
   "pygments_lexer": "ipython3",
   "version": "3.9.2"
  }
 },
 "nbformat": 4,
 "nbformat_minor": 5
}
